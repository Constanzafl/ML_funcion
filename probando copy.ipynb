{
 "cells": [
  {
   "cell_type": "code",
   "execution_count": 3,
   "metadata": {},
   "outputs": [],
   "source": [
    "from fastapi import FastAPI, HTTPException\n",
    "from fastapi.responses import HTMLResponse\n",
    "import pandas as pd\n",
    "import numpy as np\n",
    "from sklearn.feature_extraction.text import TfidfVectorizer\n",
    "from sklearn.metrics.pairwise import linear_kernel\n",
    "from sklearn.feature_extraction.text import CountVectorizer\n",
    "from sklearn.metrics.pairwise import cosine_similarity\n"
   ]
  },
  {
   "cell_type": "code",
   "execution_count": 4,
   "metadata": {},
   "outputs": [],
   "source": [
    "df_top_5=pd.read_csv('Top15kpelis.csv')\n",
    "filters=pd.read_csv('filters.csv')\n",
    "df_concat3=pd.read_csv('FuncionML.csv')"
   ]
  },
  {
   "cell_type": "code",
   "execution_count": 7,
   "metadata": {},
   "outputs": [],
   "source": [
    "\n",
    "indices=pd.Series(filters.index, index=filters['title'])\n",
    "\n",
    "\n",
    "def recomendacion_peli(title):\n",
    "    '''Ingresas un nombre de pelicula y te recomienda las similares en una lista'''\n",
    "    #tfidf= TfidfVectorizer(stop_words='english')\n",
    "    #df_top_5['overview'].fillna('', inplace=True)\n",
    "    #tfidf_matrix = tfidf.fit_transform(df_top_5['overview'])\n",
    "    #cosine_sim= linear_kernel(tfidf_matrix, tfidf_matrix)\n",
    "\n",
    "    count= CountVectorizer(stop_words='english')\n",
    "    count_matrix= count.fit_transform(filters['metadatos'])\n",
    "    cosine_sim2= cosine_similarity(count_matrix, count_matrix)\n",
    "    \n",
    "    title=title.replace(' ','').lower() \n",
    "    if title not in indices:\n",
    "        return {'Mensaje': 'Valor inexistente'}\n",
    "    \n",
    "    idx= indices[title]\n",
    "    \n",
    "    sim_scores = list(enumerate(cosine_sim2[idx]))\n",
    "    \n",
    "    sim_scores= sorted(sim_scores, key=lambda x: x[1], reverse=True)\n",
    "    \n",
    "    sim_scores= sim_scores[1:6]\n",
    "    \n",
    "    movie_indices= [i[0] for i in sim_scores]\n",
    "    \n",
    "    lista= df_concat3['title'].iloc[movie_indices]\n",
    "    lista2= lista.to_list()\n",
    "    \n",
    "    return lista2\n",
    "\n",
    "\n"
   ]
  },
  {
   "cell_type": "code",
   "execution_count": 8,
   "metadata": {},
   "outputs": [
    {
     "data": {
      "text/plain": [
       "['Toy Story 2',\n",
       " 'Toy Story 3',\n",
       " 'Small Fry',\n",
       " 'Toy Story That Time Forgot',\n",
       " 'Hawaiian Vacation']"
      ]
     },
     "execution_count": 8,
     "metadata": {},
     "output_type": "execute_result"
    }
   ],
   "source": [
    "recomendacion_peli('Toy Story')"
   ]
  },
  {
   "cell_type": "code",
   "execution_count": 9,
   "metadata": {},
   "outputs": [
    {
     "ename": "ValueError",
     "evalue": "The truth value of an array with more than one element is ambiguous. Use a.any() or a.all()",
     "output_type": "error",
     "traceback": [
      "\u001b[1;31m---------------------------------------------------------------------------\u001b[0m",
      "\u001b[1;31mValueError\u001b[0m                                Traceback (most recent call last)",
      "Cell \u001b[1;32mIn[9], line 1\u001b[0m\n\u001b[1;32m----> 1\u001b[0m recomendacion_peli(\u001b[39m'\u001b[39;49m\u001b[39mWonder Woman\u001b[39;49m\u001b[39m'\u001b[39;49m)\n",
      "Cell \u001b[1;32mIn[7], line 23\u001b[0m, in \u001b[0;36mrecomendacion_peli\u001b[1;34m(title)\u001b[0m\n\u001b[0;32m     19\u001b[0m idx\u001b[39m=\u001b[39m indices[title]\n\u001b[0;32m     21\u001b[0m sim_scores \u001b[39m=\u001b[39m \u001b[39mlist\u001b[39m(\u001b[39menumerate\u001b[39m(cosine_sim2[idx]))\n\u001b[1;32m---> 23\u001b[0m sim_scores\u001b[39m=\u001b[39m \u001b[39msorted\u001b[39;49m(sim_scores, key\u001b[39m=\u001b[39;49m\u001b[39mlambda\u001b[39;49;00m x: x[\u001b[39m1\u001b[39;49m], reverse\u001b[39m=\u001b[39;49m\u001b[39mTrue\u001b[39;49;00m)\n\u001b[0;32m     25\u001b[0m sim_scores\u001b[39m=\u001b[39m sim_scores[\u001b[39m1\u001b[39m:\u001b[39m6\u001b[39m]\n\u001b[0;32m     27\u001b[0m movie_indices\u001b[39m=\u001b[39m [i[\u001b[39m0\u001b[39m] \u001b[39mfor\u001b[39;00m i \u001b[39min\u001b[39;00m sim_scores]\n",
      "\u001b[1;31mValueError\u001b[0m: The truth value of an array with more than one element is ambiguous. Use a.any() or a.all()"
     ]
    }
   ],
   "source": [
    "recomendacion_peli('Wonder Woman')"
   ]
  },
  {
   "cell_type": "code",
   "execution_count": 10,
   "metadata": {},
   "outputs": [],
   "source": [
    "def recomendacion_peli(title):\n",
    "    '''Ingresas un nombre de pelicula y te recomienda las similares en una lista'''\n",
    "    \n",
    "    \n",
    "    count = CountVectorizer(stop_words='english')\n",
    "    count_matrix = count.fit_transform(filters['metadatos'])\n",
    "    cosine_sim2 = cosine_similarity(count_matrix, count_matrix)\n",
    "    \n",
    "    title = title.replace(' ', '').lower() \n",
    "    if title not in indices:\n",
    "        return {'Mensaje': 'Valor inexistente'}\n",
    "    \n",
    "    idx = indices[title]\n",
    "    \n",
    "    sim_scores = list(enumerate(cosine_sim2[idx]))\n",
    "    \n",
    "\n",
    "    sim_scores = [(i, score) for i, score in sim_scores if isinstance(score, (int, float))]\n",
    "    \n",
    "    sim_scores = sorted(sim_scores, key=lambda x: x[1], reverse=True)\n",
    "    \n",
    "    sim_scores = sim_scores[1:6]\n",
    "    \n",
    "    movie_indices = [i[0] for i in sim_scores]\n",
    "    \n",
    "    lista = df_concat3['title'].iloc[movie_indices]\n",
    "    lista2 = lista.to_list()\n",
    "    \n",
    "    return lista2"
   ]
  },
  {
   "cell_type": "code",
   "execution_count": 11,
   "metadata": {},
   "outputs": [
    {
     "data": {
      "text/plain": [
       "[]"
      ]
     },
     "execution_count": 11,
     "metadata": {},
     "output_type": "execute_result"
    }
   ],
   "source": [
    "recomendacion_peli('wonder woman')"
   ]
  }
 ],
 "metadata": {
  "kernelspec": {
   "display_name": "Python 3",
   "language": "python",
   "name": "python3"
  },
  "language_info": {
   "codemirror_mode": {
    "name": "ipython",
    "version": 3
   },
   "file_extension": ".py",
   "mimetype": "text/x-python",
   "name": "python",
   "nbconvert_exporter": "python",
   "pygments_lexer": "ipython3",
   "version": "3.11.1"
  },
  "orig_nbformat": 4
 },
 "nbformat": 4,
 "nbformat_minor": 2
}
